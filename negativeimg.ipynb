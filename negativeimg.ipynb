{
  "nbformat": 4,
  "nbformat_minor": 0,
  "metadata": {
    "colab": {
      "name": "negativeimg.ipynb",
      "version": "0.3.2",
      "provenance": [],
      "include_colab_link": true
    },
    "kernelspec": {
      "name": "python3",
      "display_name": "Python 3"
    }
  },
  "cells": [
    {
      "cell_type": "markdown",
      "metadata": {
        "id": "view-in-github",
        "colab_type": "text"
      },
      "source": [
        "<a href=\"https://colab.research.google.com/github/ashnigga98/CollegeStuff/blob/master/negativeimg.ipynb\" target=\"_parent\"><img src=\"https://colab.research.google.com/assets/colab-badge.svg\" alt=\"Open In Colab\"/></a>"
      ]
    },
    {
      "cell_type": "code",
      "metadata": {
        "id": "wbnWj8yb85kc",
        "colab_type": "code",
        "colab": {}
      },
      "source": [
        ""
      ],
      "execution_count": 0,
      "outputs": []
    },
    {
      "cell_type": "code",
      "metadata": {
        "id": "g34bqNHTxu9l",
        "colab_type": "code",
        "colab": {}
      },
      "source": [
        "from PIL import Image\n",
        "import numpy as np"
      ],
      "execution_count": 0,
      "outputs": []
    },
    {
      "cell_type": "code",
      "metadata": {
        "id": "icuKtImlx79w",
        "colab_type": "code",
        "outputId": "cea8503f-9c37-4a22-c9c6-d5351a50e9e8",
        "colab": {
          "base_uri": "https://localhost:8080/",
          "height": 34
        }
      },
      "source": [
        "from google.colab import drive\n",
        "\n",
        "drive.mount('/content/gdrive')"
      ],
      "execution_count": 38,
      "outputs": [
        {
          "output_type": "stream",
          "text": [
            "Drive already mounted at /content/gdrive; to attempt to forcibly remount, call drive.mount(\"/content/gdrive\", force_remount=True).\n"
          ],
          "name": "stdout"
        }
      ]
    },
    {
      "cell_type": "code",
      "metadata": {
        "id": "Z07oG5Rny7jR",
        "colab_type": "code",
        "colab": {}
      },
      "source": [
        "img = Image.open('gdrive/My Drive/cameraman.tif')"
      ],
      "execution_count": 0,
      "outputs": []
    },
    {
      "cell_type": "code",
      "metadata": {
        "id": "OP7BJcQl0E6c",
        "colab_type": "code",
        "colab": {}
      },
      "source": [
        "img = np.asarray(img, dtype=\"int32\")"
      ],
      "execution_count": 0,
      "outputs": []
    },
    {
      "cell_type": "code",
      "metadata": {
        "id": "_0WzJ8Rx3BCt",
        "colab_type": "code",
        "outputId": "e8a5d080-0849-46f4-b39d-a8aa1a52712b",
        "colab": {
          "base_uri": "https://localhost:8080/",
          "height": 136
        }
      },
      "source": [
        "img"
      ],
      "execution_count": 50,
      "outputs": [
        {
          "output_type": "execute_result",
          "data": {
            "text/plain": [
              "array([[156, 159, 158, ..., 151, 152, 152],\n",
              "       [160, 154, 157, ..., 154, 155, 153],\n",
              "       [156, 159, 158, ..., 151, 152, 152],\n",
              "       ...,\n",
              "       [114, 132, 123, ..., 135, 137, 114],\n",
              "       [121, 126, 130, ..., 133, 130, 113],\n",
              "       [121, 126, 130, ..., 133, 130, 113]], dtype=int32)"
            ]
          },
          "metadata": {
            "tags": []
          },
          "execution_count": 50
        }
      ]
    },
    {
      "cell_type": "code",
      "metadata": {
        "id": "RxT_LUva3CGo",
        "colab_type": "code",
        "outputId": "81a8260b-dcc4-4357-8270-f139e08ff4b2",
        "colab": {
          "base_uri": "https://localhost:8080/",
          "height": 34
        }
      },
      "source": [
        "img.shape"
      ],
      "execution_count": 51,
      "outputs": [
        {
          "output_type": "execute_result",
          "data": {
            "text/plain": [
              "(256, 256)"
            ]
          },
          "metadata": {
            "tags": []
          },
          "execution_count": 51
        }
      ]
    },
    {
      "cell_type": "code",
      "metadata": {
        "id": "oP2UuyRY3PmF",
        "colab_type": "code",
        "colab": {}
      },
      "source": [
        "def negative(img):\n",
        "  for i in range(len(img)):\n",
        "    for j in range(len(img[i])):\n",
        "      img[i][j] = 255 - img[i][j]\n",
        "  return img"
      ],
      "execution_count": 0,
      "outputs": []
    },
    {
      "cell_type": "code",
      "metadata": {
        "id": "ZKpGgxyL40YI",
        "colab_type": "code",
        "outputId": "ae72c9f4-c602-4368-cf35-f2b1cb34074a",
        "colab": {
          "base_uri": "https://localhost:8080/",
          "height": 136
        }
      },
      "source": [
        "neg_img = negative(img)\n",
        "neg_img"
      ],
      "execution_count": 53,
      "outputs": [
        {
          "output_type": "execute_result",
          "data": {
            "text/plain": [
              "array([[ 99,  96,  97, ..., 104, 103, 103],\n",
              "       [ 95, 101,  98, ..., 101, 100, 102],\n",
              "       [ 99,  96,  97, ..., 104, 103, 103],\n",
              "       ...,\n",
              "       [141, 123, 132, ..., 120, 118, 141],\n",
              "       [134, 129, 125, ..., 122, 125, 142],\n",
              "       [134, 129, 125, ..., 122, 125, 142]], dtype=int32)"
            ]
          },
          "metadata": {
            "tags": []
          },
          "execution_count": 53
        }
      ]
    },
    {
      "cell_type": "code",
      "metadata": {
        "id": "U7vuQh8742hF",
        "colab_type": "code",
        "outputId": "4bbdac40-1282-43bb-e895-d1d090a48ea3",
        "colab": {
          "base_uri": "https://localhost:8080/",
          "height": 34
        }
      },
      "source": [
        "neg_img.shape"
      ],
      "execution_count": 54,
      "outputs": [
        {
          "output_type": "execute_result",
          "data": {
            "text/plain": [
              "(256, 256)"
            ]
          },
          "metadata": {
            "tags": []
          },
          "execution_count": 54
        }
      ]
    },
    {
      "cell_type": "code",
      "metadata": {
        "id": "dnOzdpmW9ZwW",
        "colab_type": "code",
        "colab": {}
      },
      "source": [
        "neg_img = Image.fromarray(np.asarray(np.clip(neg_img,0,255), dtype=\"uint8\"), \"L\")"
      ],
      "execution_count": 0,
      "outputs": []
    },
    {
      "cell_type": "code",
      "metadata": {
        "id": "rWJh5jfO-jrH",
        "colab_type": "code",
        "colab": {}
      },
      "source": [
        "neg_img.save(\"cameraman_neg.tif\")"
      ],
      "execution_count": 0,
      "outputs": []
    },
    {
      "cell_type": "code",
      "metadata": {
        "id": "dFgjNUXeAp4w",
        "colab_type": "code",
        "outputId": "44835acf-e47d-42e1-cb53-6e17be690dd1",
        "colab": {
          "base_uri": "https://localhost:8080/",
          "height": 273
        }
      },
      "source": [
        "neg_img"
      ],
      "execution_count": 57,
      "outputs": [
        {
          "output_type": "execute_result",
          "data": {
            "image/png": "[encoded data removed]",
            "text/plain": [
              "<PIL.Image.Image image mode=L size=256x256 at 0x7FDCCE21C6D8>"
            ]
          },
          "metadata": {
            "tags": []
          },
          "execution_count": 57
        }
      ]
    },
    {
      "cell_type": "code",
      "metadata": {
        "id": "d4Ck4TBeBbWf",
        "colab_type": "code",
        "colab": {}
      },
      "source": [
        ""
      ],
      "execution_count": 0,
      "outputs": []
    }
  ]
}